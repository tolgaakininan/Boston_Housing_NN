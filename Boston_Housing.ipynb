{
  "nbformat": 4,
  "nbformat_minor": 0,
  "metadata": {
    "colab": {
      "provenance": [],
      "gpuType": "T4"
    },
    "kernelspec": {
      "name": "python3",
      "display_name": "Python 3"
    },
    "language_info": {
      "name": "python"
    },
    "accelerator": "GPU"
  },
  "cells": [
    {
      "cell_type": "markdown",
      "source": [
        "#Regression Using Neural Networks with Tensorflow"
      ],
      "metadata": {
        "id": "sE9nwzQUHNFy"
      }
    },
    {
      "cell_type": "markdown",
      "source": [
        "#Importing Dataset and Neccesary Libraries"
      ],
      "metadata": {
        "id": "LHkJP3W5Htjm"
      }
    },
    {
      "cell_type": "code",
      "source": [
        "import tensorflow as tf\n",
        "import pandas as pd\n",
        "import matplotlib.pyplot as plt\n",
        "column_names = ['CRIM', 'ZN', 'INDUS', 'CHAS', 'NOX', 'RM', 'AGE', 'DIS', 'RAD', 'TAX', 'PTRATIO', 'B', 'LSTAT', 'MEDV']\n",
        "data = pd.read_csv('housing.csv', header=None, delimiter=r\"\\s+\", names=column_names)"
      ],
      "metadata": {
        "id": "ln6F6gWNH3u2"
      },
      "execution_count": 2,
      "outputs": []
    },
    {
      "cell_type": "markdown",
      "source": [
        "#Visualizing data checking attributes"
      ],
      "metadata": {
        "id": "-SHNxUfeIBiq"
      }
    },
    {
      "cell_type": "code",
      "source": [
        "print(data.head())\n",
        "print(data.isnull().sum())\n"
      ],
      "metadata": {
        "colab": {
          "base_uri": "https://localhost:8080/"
        },
        "id": "Xg0Kx994IGxa",
        "outputId": "00790859-2bde-468b-ea17-f7a64f8338ea"
      },
      "execution_count": 3,
      "outputs": [
        {
          "output_type": "stream",
          "name": "stdout",
          "text": [
            "      CRIM    ZN  INDUS  CHAS    NOX     RM   AGE     DIS  RAD    TAX  \\\n",
            "0  0.00632  18.0   2.31     0  0.538  6.575  65.2  4.0900    1  296.0   \n",
            "1  0.02731   0.0   7.07     0  0.469  6.421  78.9  4.9671    2  242.0   \n",
            "2  0.02729   0.0   7.07     0  0.469  7.185  61.1  4.9671    2  242.0   \n",
            "3  0.03237   0.0   2.18     0  0.458  6.998  45.8  6.0622    3  222.0   \n",
            "4  0.06905   0.0   2.18     0  0.458  7.147  54.2  6.0622    3  222.0   \n",
            "\n",
            "   PTRATIO       B  LSTAT  MEDV  \n",
            "0     15.3  396.90   4.98  24.0  \n",
            "1     17.8  396.90   9.14  21.6  \n",
            "2     17.8  392.83   4.03  34.7  \n",
            "3     18.7  394.63   2.94  33.4  \n",
            "4     18.7  396.90   5.33  36.2  \n",
            "CRIM       0\n",
            "ZN         0\n",
            "INDUS      0\n",
            "CHAS       0\n",
            "NOX        0\n",
            "RM         0\n",
            "AGE        0\n",
            "DIS        0\n",
            "RAD        0\n",
            "TAX        0\n",
            "PTRATIO    0\n",
            "B          0\n",
            "LSTAT      0\n",
            "MEDV       0\n",
            "dtype: int64\n"
          ]
        }
      ]
    },
    {
      "cell_type": "markdown",
      "source": [
        "#Splitting Labels and Features"
      ],
      "metadata": {
        "id": "rfyPerR0Jwn2"
      }
    },
    {
      "cell_type": "code",
      "source": [
        "column_sels = ['LSTAT', 'INDUS', 'NOX', 'PTRATIO', 'RM', 'TAX', 'DIS', 'AGE']\n",
        "X = data.loc[:,column_sels]\n",
        "y = data['MEDV']"
      ],
      "metadata": {
        "id": "GcEgrHYSJ2Ir"
      },
      "execution_count": 4,
      "outputs": []
    },
    {
      "cell_type": "markdown",
      "source": [
        "#Splitting into Train and Test datas"
      ],
      "metadata": {
        "id": "S3yvvpHZJrEW"
      }
    },
    {
      "cell_type": "code",
      "source": [
        "from sklearn.model_selection import train_test_split\n",
        "\n",
        "X_train, X_test, y_train, y_test = train_test_split(X, y, test_size = 0.2, random_state = 63)"
      ],
      "metadata": {
        "id": "qbMGWyGEKDrp"
      },
      "execution_count": 5,
      "outputs": []
    },
    {
      "cell_type": "markdown",
      "source": [
        "#Feature Scaling"
      ],
      "metadata": {
        "id": "GIYY1eyzJoVV"
      }
    },
    {
      "cell_type": "code",
      "source": [
        "from sklearn.preprocessing import MinMaxScaler\n",
        "#The reason i've selected MinMaxScaler is the most of the values we have doesn't fit normal distribution\n",
        "\n",
        "scaler = MinMaxScaler()\n",
        "X_train = scaler.fit_transform(X_train)\n",
        "X_test = scaler.fit_transform(X_test)"
      ],
      "metadata": {
        "id": "uYEWz2gMJoFh"
      },
      "execution_count": 6,
      "outputs": []
    },
    {
      "cell_type": "markdown",
      "source": [
        "#Creating a Neural Network"
      ],
      "metadata": {
        "id": "sbilgGKWLBdy"
      }
    },
    {
      "cell_type": "code",
      "source": [
        "model = tf.keras.Sequential([\n",
        "    tf.keras.layers.Dense(100),\n",
        "    tf.keras.layers.Dense(1)\n",
        "])\n",
        "model.compile(loss=tf.keras.losses.mae,\n",
        "              optimizer=tf.keras.optimizers.Adam(learning_rate=0.01),\n",
        "              metrics=['mae'])\n",
        "model.fit(X_train, y_train, epochs=100)"
      ],
      "metadata": {
        "id": "K4nhqwhmLGcA",
        "colab": {
          "base_uri": "https://localhost:8080/"
        },
        "outputId": "4d261dd1-9b0c-461c-b196-68f15fb3fe1d"
      },
      "execution_count": 7,
      "outputs": [
        {
          "output_type": "stream",
          "name": "stdout",
          "text": [
            "Epoch 1/100\n",
            "13/13 [==============================] - 5s 4ms/step - loss: 17.8015 - mae: 17.8015\n",
            "Epoch 2/100\n",
            "13/13 [==============================] - 0s 3ms/step - loss: 9.8471 - mae: 9.8471\n",
            "Epoch 3/100\n",
            "13/13 [==============================] - 0s 3ms/step - loss: 8.6514 - mae: 8.6514\n",
            "Epoch 4/100\n",
            "13/13 [==============================] - 0s 3ms/step - loss: 6.8177 - mae: 6.8177\n",
            "Epoch 5/100\n",
            "13/13 [==============================] - 0s 3ms/step - loss: 5.4493 - mae: 5.4493\n",
            "Epoch 6/100\n",
            "13/13 [==============================] - 0s 3ms/step - loss: 5.0553 - mae: 5.0553\n",
            "Epoch 7/100\n",
            "13/13 [==============================] - 0s 3ms/step - loss: 4.7523 - mae: 4.7523\n",
            "Epoch 8/100\n",
            "13/13 [==============================] - 0s 3ms/step - loss: 4.3784 - mae: 4.3784\n",
            "Epoch 9/100\n",
            "13/13 [==============================] - 0s 3ms/step - loss: 4.1216 - mae: 4.1216\n",
            "Epoch 10/100\n",
            "13/13 [==============================] - 0s 3ms/step - loss: 3.8816 - mae: 3.8816\n",
            "Epoch 11/100\n",
            "13/13 [==============================] - 0s 3ms/step - loss: 3.7500 - mae: 3.7500\n",
            "Epoch 12/100\n",
            "13/13 [==============================] - 0s 3ms/step - loss: 3.6282 - mae: 3.6282\n",
            "Epoch 13/100\n",
            "13/13 [==============================] - 0s 3ms/step - loss: 3.6026 - mae: 3.6026\n",
            "Epoch 14/100\n",
            "13/13 [==============================] - 0s 3ms/step - loss: 3.4896 - mae: 3.4896\n",
            "Epoch 15/100\n",
            "13/13 [==============================] - 0s 3ms/step - loss: 3.5644 - mae: 3.5644\n",
            "Epoch 16/100\n",
            "13/13 [==============================] - 0s 4ms/step - loss: 3.4662 - mae: 3.4662\n",
            "Epoch 17/100\n",
            "13/13 [==============================] - 0s 3ms/step - loss: 3.4616 - mae: 3.4616\n",
            "Epoch 18/100\n",
            "13/13 [==============================] - 0s 3ms/step - loss: 3.5965 - mae: 3.5965\n",
            "Epoch 19/100\n",
            "13/13 [==============================] - 0s 3ms/step - loss: 3.4022 - mae: 3.4022\n",
            "Epoch 20/100\n",
            "13/13 [==============================] - 0s 3ms/step - loss: 3.5059 - mae: 3.5059\n",
            "Epoch 21/100\n",
            "13/13 [==============================] - 0s 3ms/step - loss: 3.6376 - mae: 3.6376\n",
            "Epoch 22/100\n",
            "13/13 [==============================] - 0s 3ms/step - loss: 3.5029 - mae: 3.5029\n",
            "Epoch 23/100\n",
            "13/13 [==============================] - 0s 3ms/step - loss: 3.4401 - mae: 3.4401\n",
            "Epoch 24/100\n",
            "13/13 [==============================] - 0s 4ms/step - loss: 3.4775 - mae: 3.4775\n",
            "Epoch 25/100\n",
            "13/13 [==============================] - 0s 4ms/step - loss: 3.4605 - mae: 3.4605\n",
            "Epoch 26/100\n",
            "13/13 [==============================] - 0s 3ms/step - loss: 3.3528 - mae: 3.3528\n",
            "Epoch 27/100\n",
            "13/13 [==============================] - 0s 4ms/step - loss: 3.3938 - mae: 3.3938\n",
            "Epoch 28/100\n",
            "13/13 [==============================] - 0s 5ms/step - loss: 3.3709 - mae: 3.3709\n",
            "Epoch 29/100\n",
            "13/13 [==============================] - 0s 4ms/step - loss: 3.3571 - mae: 3.3571\n",
            "Epoch 30/100\n",
            "13/13 [==============================] - 0s 4ms/step - loss: 3.4275 - mae: 3.4275\n",
            "Epoch 31/100\n",
            "13/13 [==============================] - 0s 4ms/step - loss: 3.4023 - mae: 3.4023\n",
            "Epoch 32/100\n",
            "13/13 [==============================] - 0s 5ms/step - loss: 3.4162 - mae: 3.4162\n",
            "Epoch 33/100\n",
            "13/13 [==============================] - 0s 5ms/step - loss: 3.4638 - mae: 3.4638\n",
            "Epoch 34/100\n",
            "13/13 [==============================] - 0s 4ms/step - loss: 3.3967 - mae: 3.3967\n",
            "Epoch 35/100\n",
            "13/13 [==============================] - 0s 4ms/step - loss: 3.3933 - mae: 3.3933\n",
            "Epoch 36/100\n",
            "13/13 [==============================] - 0s 4ms/step - loss: 3.3442 - mae: 3.3442\n",
            "Epoch 37/100\n",
            "13/13 [==============================] - 0s 4ms/step - loss: 3.3558 - mae: 3.3558\n",
            "Epoch 38/100\n",
            "13/13 [==============================] - 0s 5ms/step - loss: 3.4494 - mae: 3.4494\n",
            "Epoch 39/100\n",
            "13/13 [==============================] - 0s 4ms/step - loss: 3.4493 - mae: 3.4493\n",
            "Epoch 40/100\n",
            "13/13 [==============================] - 0s 4ms/step - loss: 3.3609 - mae: 3.3609\n",
            "Epoch 41/100\n",
            "13/13 [==============================] - 0s 4ms/step - loss: 3.3433 - mae: 3.3433\n",
            "Epoch 42/100\n",
            "13/13 [==============================] - 0s 4ms/step - loss: 3.5316 - mae: 3.5316\n",
            "Epoch 43/100\n",
            "13/13 [==============================] - 0s 4ms/step - loss: 3.4387 - mae: 3.4387\n",
            "Epoch 44/100\n",
            "13/13 [==============================] - 0s 4ms/step - loss: 3.3909 - mae: 3.3909\n",
            "Epoch 45/100\n",
            "13/13 [==============================] - 0s 4ms/step - loss: 3.3793 - mae: 3.3793\n",
            "Epoch 46/100\n",
            "13/13 [==============================] - 0s 4ms/step - loss: 3.3893 - mae: 3.3893\n",
            "Epoch 47/100\n",
            "13/13 [==============================] - 0s 4ms/step - loss: 3.3553 - mae: 3.3553\n",
            "Epoch 48/100\n",
            "13/13 [==============================] - 0s 4ms/step - loss: 3.3580 - mae: 3.3580\n",
            "Epoch 49/100\n",
            "13/13 [==============================] - 0s 4ms/step - loss: 3.3726 - mae: 3.3726\n",
            "Epoch 50/100\n",
            "13/13 [==============================] - 0s 4ms/step - loss: 3.4556 - mae: 3.4556\n",
            "Epoch 51/100\n",
            "13/13 [==============================] - 0s 4ms/step - loss: 3.4212 - mae: 3.4212\n",
            "Epoch 52/100\n",
            "13/13 [==============================] - 0s 4ms/step - loss: 3.3966 - mae: 3.3966\n",
            "Epoch 53/100\n",
            "13/13 [==============================] - 0s 6ms/step - loss: 3.4139 - mae: 3.4139\n",
            "Epoch 54/100\n",
            "13/13 [==============================] - 0s 5ms/step - loss: 3.3774 - mae: 3.3774\n",
            "Epoch 55/100\n",
            "13/13 [==============================] - 0s 4ms/step - loss: 3.3703 - mae: 3.3703\n",
            "Epoch 56/100\n",
            "13/13 [==============================] - 0s 5ms/step - loss: 3.4386 - mae: 3.4386\n",
            "Epoch 57/100\n",
            "13/13 [==============================] - 0s 4ms/step - loss: 3.4719 - mae: 3.4719\n",
            "Epoch 58/100\n",
            "13/13 [==============================] - 0s 4ms/step - loss: 3.3508 - mae: 3.3508\n",
            "Epoch 59/100\n",
            "13/13 [==============================] - 0s 4ms/step - loss: 3.5505 - mae: 3.5505\n",
            "Epoch 60/100\n",
            "13/13 [==============================] - 0s 4ms/step - loss: 3.4850 - mae: 3.4850\n",
            "Epoch 61/100\n",
            "13/13 [==============================] - 0s 4ms/step - loss: 3.3983 - mae: 3.3983\n",
            "Epoch 62/100\n",
            "13/13 [==============================] - 0s 4ms/step - loss: 3.3440 - mae: 3.3440\n",
            "Epoch 63/100\n",
            "13/13 [==============================] - 0s 4ms/step - loss: 3.3986 - mae: 3.3986\n",
            "Epoch 64/100\n",
            "13/13 [==============================] - 0s 5ms/step - loss: 3.4737 - mae: 3.4737\n",
            "Epoch 65/100\n",
            "13/13 [==============================] - 0s 4ms/step - loss: 3.3825 - mae: 3.3825\n",
            "Epoch 66/100\n",
            "13/13 [==============================] - 0s 4ms/step - loss: 3.6040 - mae: 3.6040\n",
            "Epoch 67/100\n",
            "13/13 [==============================] - 0s 4ms/step - loss: 3.3536 - mae: 3.3536\n",
            "Epoch 68/100\n",
            "13/13 [==============================] - 0s 4ms/step - loss: 3.3495 - mae: 3.3495\n",
            "Epoch 69/100\n",
            "13/13 [==============================] - 0s 5ms/step - loss: 3.3373 - mae: 3.3373\n",
            "Epoch 70/100\n",
            "13/13 [==============================] - 0s 5ms/step - loss: 3.3262 - mae: 3.3262\n",
            "Epoch 71/100\n",
            "13/13 [==============================] - 0s 4ms/step - loss: 3.4508 - mae: 3.4508\n",
            "Epoch 72/100\n",
            "13/13 [==============================] - 0s 4ms/step - loss: 3.4436 - mae: 3.4436\n",
            "Epoch 73/100\n",
            "13/13 [==============================] - 0s 5ms/step - loss: 3.4655 - mae: 3.4655\n",
            "Epoch 74/100\n",
            "13/13 [==============================] - 0s 4ms/step - loss: 3.4919 - mae: 3.4919\n",
            "Epoch 75/100\n",
            "13/13 [==============================] - 0s 4ms/step - loss: 3.3529 - mae: 3.3529\n",
            "Epoch 76/100\n",
            "13/13 [==============================] - 0s 4ms/step - loss: 3.4054 - mae: 3.4054\n",
            "Epoch 77/100\n",
            "13/13 [==============================] - 0s 4ms/step - loss: 3.3715 - mae: 3.3715\n",
            "Epoch 78/100\n",
            "13/13 [==============================] - 0s 4ms/step - loss: 3.3417 - mae: 3.3417\n",
            "Epoch 79/100\n",
            "13/13 [==============================] - 0s 4ms/step - loss: 3.4278 - mae: 3.4278\n",
            "Epoch 80/100\n",
            "13/13 [==============================] - 0s 4ms/step - loss: 3.3598 - mae: 3.3598\n",
            "Epoch 81/100\n",
            "13/13 [==============================] - 0s 5ms/step - loss: 3.4705 - mae: 3.4705\n",
            "Epoch 82/100\n",
            "13/13 [==============================] - 0s 4ms/step - loss: 3.3583 - mae: 3.3583\n",
            "Epoch 83/100\n",
            "13/13 [==============================] - 0s 4ms/step - loss: 3.4011 - mae: 3.4011\n",
            "Epoch 84/100\n",
            "13/13 [==============================] - 0s 5ms/step - loss: 3.3424 - mae: 3.3424\n",
            "Epoch 85/100\n",
            "13/13 [==============================] - 0s 5ms/step - loss: 3.4545 - mae: 3.4545\n",
            "Epoch 86/100\n",
            "13/13 [==============================] - 0s 4ms/step - loss: 3.4389 - mae: 3.4389\n",
            "Epoch 87/100\n",
            "13/13 [==============================] - 0s 4ms/step - loss: 3.4443 - mae: 3.4443\n",
            "Epoch 88/100\n",
            "13/13 [==============================] - 0s 4ms/step - loss: 3.3619 - mae: 3.3619\n",
            "Epoch 89/100\n",
            "13/13 [==============================] - 0s 4ms/step - loss: 3.4136 - mae: 3.4136\n",
            "Epoch 90/100\n",
            "13/13 [==============================] - 0s 4ms/step - loss: 3.3629 - mae: 3.3629\n",
            "Epoch 91/100\n",
            "13/13 [==============================] - 0s 4ms/step - loss: 3.3331 - mae: 3.3331\n",
            "Epoch 92/100\n",
            "13/13 [==============================] - 0s 4ms/step - loss: 3.4125 - mae: 3.4125\n",
            "Epoch 93/100\n",
            "13/13 [==============================] - 0s 4ms/step - loss: 3.3548 - mae: 3.3548\n",
            "Epoch 94/100\n",
            "13/13 [==============================] - 0s 4ms/step - loss: 3.4426 - mae: 3.4426\n",
            "Epoch 95/100\n",
            "13/13 [==============================] - 0s 4ms/step - loss: 3.3612 - mae: 3.3612\n",
            "Epoch 96/100\n",
            "13/13 [==============================] - 0s 3ms/step - loss: 3.4378 - mae: 3.4378\n",
            "Epoch 97/100\n",
            "13/13 [==============================] - 0s 3ms/step - loss: 3.4527 - mae: 3.4527\n",
            "Epoch 98/100\n",
            "13/13 [==============================] - 0s 3ms/step - loss: 3.4722 - mae: 3.4722\n",
            "Epoch 99/100\n",
            "13/13 [==============================] - 0s 4ms/step - loss: 3.3791 - mae: 3.3791\n",
            "Epoch 100/100\n",
            "13/13 [==============================] - 0s 3ms/step - loss: 3.3734 - mae: 3.3734\n"
          ]
        },
        {
          "output_type": "execute_result",
          "data": {
            "text/plain": [
              "<keras.src.callbacks.History at 0x7b7a1d0a6110>"
            ]
          },
          "metadata": {},
          "execution_count": 7
        }
      ]
    },
    {
      "cell_type": "markdown",
      "source": [
        "#Evaluating Model"
      ],
      "metadata": {
        "id": "Ok1tRjNlLYA7"
      }
    },
    {
      "cell_type": "code",
      "source": [
        "tf.keras.metrics.mean_absolute_error(y_test, tf.squeeze(model.predict(X_test))).numpy(), data['MEDV'].mean()"
      ],
      "metadata": {
        "colab": {
          "base_uri": "https://localhost:8080/"
        },
        "id": "amAlJIMKLbyp",
        "outputId": "092757f5-ae25-4b58-e5ed-c0e3f4eff0ef"
      },
      "execution_count": 8,
      "outputs": [
        {
          "output_type": "stream",
          "name": "stdout",
          "text": [
            "4/4 [==============================] - 0s 3ms/step\n"
          ]
        },
        {
          "output_type": "execute_result",
          "data": {
            "text/plain": [
              "(5.4890766, 22.532806324110677)"
            ]
          },
          "metadata": {},
          "execution_count": 8
        }
      ]
    },
    {
      "cell_type": "markdown",
      "source": [
        "#Reproducing model to improve performance"
      ],
      "metadata": {
        "id": "Efy1nVQMLyQE"
      }
    },
    {
      "cell_type": "code",
      "source": [
        "model = tf.keras.Sequential([\n",
        "    tf.keras.layers.Dense(65),\n",
        "    tf.keras.layers.Dense(1)\n",
        "])\n",
        "model.compile(loss=tf.keras.losses.mae,\n",
        "              optimizer=tf.keras.optimizers.SGD(),\n",
        "              metrics=['mae'])\n",
        "model.fit(X_train, y_train, epochs=100)"
      ],
      "metadata": {
        "id": "rNSJtKgsL1Y_",
        "colab": {
          "base_uri": "https://localhost:8080/"
        },
        "outputId": "929ce287-18c2-4bb0-af15-c5a05e240487"
      },
      "execution_count": 9,
      "outputs": [
        {
          "output_type": "stream",
          "name": "stdout",
          "text": [
            "Epoch 1/100\n",
            "13/13 [==============================] - 1s 3ms/step - loss: 21.9396 - mae: 21.9396\n",
            "Epoch 2/100\n",
            "13/13 [==============================] - 0s 3ms/step - loss: 20.6159 - mae: 20.6159\n",
            "Epoch 3/100\n",
            "13/13 [==============================] - 0s 3ms/step - loss: 18.9925 - mae: 18.9925\n",
            "Epoch 4/100\n",
            "13/13 [==============================] - 0s 4ms/step - loss: 16.8677 - mae: 16.8677\n",
            "Epoch 5/100\n",
            "13/13 [==============================] - 0s 3ms/step - loss: 14.3096 - mae: 14.3096\n",
            "Epoch 6/100\n",
            "13/13 [==============================] - 0s 3ms/step - loss: 11.9243 - mae: 11.9243\n",
            "Epoch 7/100\n",
            "13/13 [==============================] - 0s 4ms/step - loss: 10.4423 - mae: 10.4423\n",
            "Epoch 8/100\n",
            "13/13 [==============================] - 0s 3ms/step - loss: 9.5640 - mae: 9.5640\n",
            "Epoch 9/100\n",
            "13/13 [==============================] - 0s 3ms/step - loss: 9.0217 - mae: 9.0217\n",
            "Epoch 10/100\n",
            "13/13 [==============================] - 0s 3ms/step - loss: 8.7028 - mae: 8.7028\n",
            "Epoch 11/100\n",
            "13/13 [==============================] - 0s 3ms/step - loss: 8.4821 - mae: 8.4821\n",
            "Epoch 12/100\n",
            "13/13 [==============================] - 0s 3ms/step - loss: 8.2807 - mae: 8.2807\n",
            "Epoch 13/100\n",
            "13/13 [==============================] - 0s 3ms/step - loss: 8.0722 - mae: 8.0722\n",
            "Epoch 14/100\n",
            "13/13 [==============================] - 0s 3ms/step - loss: 7.8754 - mae: 7.8754\n",
            "Epoch 15/100\n",
            "13/13 [==============================] - 0s 3ms/step - loss: 7.6663 - mae: 7.6663\n",
            "Epoch 16/100\n",
            "13/13 [==============================] - 0s 3ms/step - loss: 7.4639 - mae: 7.4639\n",
            "Epoch 17/100\n",
            "13/13 [==============================] - 0s 3ms/step - loss: 7.2529 - mae: 7.2529\n",
            "Epoch 18/100\n",
            "13/13 [==============================] - 0s 3ms/step - loss: 7.0570 - mae: 7.0570\n",
            "Epoch 19/100\n",
            "13/13 [==============================] - 0s 3ms/step - loss: 6.8504 - mae: 6.8504\n",
            "Epoch 20/100\n",
            "13/13 [==============================] - 0s 3ms/step - loss: 6.6465 - mae: 6.6465\n",
            "Epoch 21/100\n",
            "13/13 [==============================] - 0s 3ms/step - loss: 6.4583 - mae: 6.4583\n",
            "Epoch 22/100\n",
            "13/13 [==============================] - 0s 3ms/step - loss: 6.2735 - mae: 6.2735\n",
            "Epoch 23/100\n",
            "13/13 [==============================] - 0s 4ms/step - loss: 6.0982 - mae: 6.0982\n",
            "Epoch 24/100\n",
            "13/13 [==============================] - 0s 4ms/step - loss: 5.9268 - mae: 5.9268\n",
            "Epoch 25/100\n",
            "13/13 [==============================] - 0s 3ms/step - loss: 5.7581 - mae: 5.7581\n",
            "Epoch 26/100\n",
            "13/13 [==============================] - 0s 3ms/step - loss: 5.6081 - mae: 5.6081\n",
            "Epoch 27/100\n",
            "13/13 [==============================] - 0s 3ms/step - loss: 5.4728 - mae: 5.4728\n",
            "Epoch 28/100\n",
            "13/13 [==============================] - 0s 3ms/step - loss: 5.3427 - mae: 5.3427\n",
            "Epoch 29/100\n",
            "13/13 [==============================] - 0s 3ms/step - loss: 5.2339 - mae: 5.2339\n",
            "Epoch 30/100\n",
            "13/13 [==============================] - 0s 3ms/step - loss: 5.1516 - mae: 5.1516\n",
            "Epoch 31/100\n",
            "13/13 [==============================] - 0s 3ms/step - loss: 5.0616 - mae: 5.0616\n",
            "Epoch 32/100\n",
            "13/13 [==============================] - 0s 3ms/step - loss: 4.9973 - mae: 4.9973\n",
            "Epoch 33/100\n",
            "13/13 [==============================] - 0s 3ms/step - loss: 4.9333 - mae: 4.9333\n",
            "Epoch 34/100\n",
            "13/13 [==============================] - 0s 3ms/step - loss: 4.8788 - mae: 4.8788\n",
            "Epoch 35/100\n",
            "13/13 [==============================] - 0s 3ms/step - loss: 4.8515 - mae: 4.8515\n",
            "Epoch 36/100\n",
            "13/13 [==============================] - 0s 3ms/step - loss: 4.7918 - mae: 4.7918\n",
            "Epoch 37/100\n",
            "13/13 [==============================] - 0s 3ms/step - loss: 4.7378 - mae: 4.7378\n",
            "Epoch 38/100\n",
            "13/13 [==============================] - 0s 3ms/step - loss: 4.6993 - mae: 4.6993\n",
            "Epoch 39/100\n",
            "13/13 [==============================] - 0s 3ms/step - loss: 4.6543 - mae: 4.6543\n",
            "Epoch 40/100\n",
            "13/13 [==============================] - 0s 4ms/step - loss: 4.6138 - mae: 4.6138\n",
            "Epoch 41/100\n",
            "13/13 [==============================] - 0s 3ms/step - loss: 4.5722 - mae: 4.5722\n",
            "Epoch 42/100\n",
            "13/13 [==============================] - 0s 3ms/step - loss: 4.5416 - mae: 4.5416\n",
            "Epoch 43/100\n",
            "13/13 [==============================] - 0s 3ms/step - loss: 4.5032 - mae: 4.5032\n",
            "Epoch 44/100\n",
            "13/13 [==============================] - 0s 3ms/step - loss: 4.4796 - mae: 4.4796\n",
            "Epoch 45/100\n",
            "13/13 [==============================] - 0s 4ms/step - loss: 4.4464 - mae: 4.4464\n",
            "Epoch 46/100\n",
            "13/13 [==============================] - 0s 3ms/step - loss: 4.4201 - mae: 4.4201\n",
            "Epoch 47/100\n",
            "13/13 [==============================] - 0s 3ms/step - loss: 4.3898 - mae: 4.3898\n",
            "Epoch 48/100\n",
            "13/13 [==============================] - 0s 3ms/step - loss: 4.3666 - mae: 4.3666\n",
            "Epoch 49/100\n",
            "13/13 [==============================] - 0s 3ms/step - loss: 4.3319 - mae: 4.3319\n",
            "Epoch 50/100\n",
            "13/13 [==============================] - 0s 3ms/step - loss: 4.3111 - mae: 4.3111\n",
            "Epoch 51/100\n",
            "13/13 [==============================] - 0s 3ms/step - loss: 4.2779 - mae: 4.2779\n",
            "Epoch 52/100\n",
            "13/13 [==============================] - 0s 3ms/step - loss: 4.2482 - mae: 4.2482\n",
            "Epoch 53/100\n",
            "13/13 [==============================] - 0s 3ms/step - loss: 4.2258 - mae: 4.2258\n",
            "Epoch 54/100\n",
            "13/13 [==============================] - 0s 3ms/step - loss: 4.1973 - mae: 4.1973\n",
            "Epoch 55/100\n",
            "13/13 [==============================] - 0s 3ms/step - loss: 4.1798 - mae: 4.1798\n",
            "Epoch 56/100\n",
            "13/13 [==============================] - 0s 3ms/step - loss: 4.1561 - mae: 4.1561\n",
            "Epoch 57/100\n",
            "13/13 [==============================] - 0s 3ms/step - loss: 4.1276 - mae: 4.1276\n",
            "Epoch 58/100\n",
            "13/13 [==============================] - 0s 3ms/step - loss: 4.0973 - mae: 4.0973\n",
            "Epoch 59/100\n",
            "13/13 [==============================] - 0s 3ms/step - loss: 4.0769 - mae: 4.0769\n",
            "Epoch 60/100\n",
            "13/13 [==============================] - 0s 3ms/step - loss: 4.0612 - mae: 4.0612\n",
            "Epoch 61/100\n",
            "13/13 [==============================] - 0s 3ms/step - loss: 4.0340 - mae: 4.0340\n",
            "Epoch 62/100\n",
            "13/13 [==============================] - 0s 3ms/step - loss: 4.0123 - mae: 4.0123\n",
            "Epoch 63/100\n",
            "13/13 [==============================] - 0s 3ms/step - loss: 3.9881 - mae: 3.9881\n",
            "Epoch 64/100\n",
            "13/13 [==============================] - 0s 3ms/step - loss: 3.9791 - mae: 3.9791\n",
            "Epoch 65/100\n",
            "13/13 [==============================] - 0s 3ms/step - loss: 3.9480 - mae: 3.9480\n",
            "Epoch 66/100\n",
            "13/13 [==============================] - 0s 4ms/step - loss: 3.9304 - mae: 3.9304\n",
            "Epoch 67/100\n",
            "13/13 [==============================] - 0s 3ms/step - loss: 3.9062 - mae: 3.9062\n",
            "Epoch 68/100\n",
            "13/13 [==============================] - 0s 3ms/step - loss: 3.8916 - mae: 3.8916\n",
            "Epoch 69/100\n",
            "13/13 [==============================] - 0s 3ms/step - loss: 3.8824 - mae: 3.8824\n",
            "Epoch 70/100\n",
            "13/13 [==============================] - 0s 3ms/step - loss: 3.8563 - mae: 3.8563\n",
            "Epoch 71/100\n",
            "13/13 [==============================] - 0s 3ms/step - loss: 3.8382 - mae: 3.8382\n",
            "Epoch 72/100\n",
            "13/13 [==============================] - 0s 3ms/step - loss: 3.8233 - mae: 3.8233\n",
            "Epoch 73/100\n",
            "13/13 [==============================] - 0s 3ms/step - loss: 3.8011 - mae: 3.8011\n",
            "Epoch 74/100\n",
            "13/13 [==============================] - 0s 3ms/step - loss: 3.7823 - mae: 3.7823\n",
            "Epoch 75/100\n",
            "13/13 [==============================] - 0s 3ms/step - loss: 3.7595 - mae: 3.7595\n",
            "Epoch 76/100\n",
            "13/13 [==============================] - 0s 3ms/step - loss: 3.7473 - mae: 3.7473\n",
            "Epoch 77/100\n",
            "13/13 [==============================] - 0s 3ms/step - loss: 3.7146 - mae: 3.7146\n",
            "Epoch 78/100\n",
            "13/13 [==============================] - 0s 3ms/step - loss: 3.7251 - mae: 3.7251\n",
            "Epoch 79/100\n",
            "13/13 [==============================] - 0s 3ms/step - loss: 3.7142 - mae: 3.7142\n",
            "Epoch 80/100\n",
            "13/13 [==============================] - 0s 3ms/step - loss: 3.6790 - mae: 3.6790\n",
            "Epoch 81/100\n",
            "13/13 [==============================] - 0s 3ms/step - loss: 3.6673 - mae: 3.6673\n",
            "Epoch 82/100\n",
            "13/13 [==============================] - 0s 3ms/step - loss: 3.6565 - mae: 3.6565\n",
            "Epoch 83/100\n",
            "13/13 [==============================] - 0s 3ms/step - loss: 3.6414 - mae: 3.6414\n",
            "Epoch 84/100\n",
            "13/13 [==============================] - 0s 3ms/step - loss: 3.6236 - mae: 3.6236\n",
            "Epoch 85/100\n",
            "13/13 [==============================] - 0s 3ms/step - loss: 3.6260 - mae: 3.6260\n",
            "Epoch 86/100\n",
            "13/13 [==============================] - 0s 3ms/step - loss: 3.6073 - mae: 3.6073\n",
            "Epoch 87/100\n",
            "13/13 [==============================] - 0s 3ms/step - loss: 3.5923 - mae: 3.5923\n",
            "Epoch 88/100\n",
            "13/13 [==============================] - 0s 3ms/step - loss: 3.5966 - mae: 3.5966\n",
            "Epoch 89/100\n",
            "13/13 [==============================] - 0s 3ms/step - loss: 3.5773 - mae: 3.5773\n",
            "Epoch 90/100\n",
            "13/13 [==============================] - 0s 3ms/step - loss: 3.5718 - mae: 3.5718\n",
            "Epoch 91/100\n",
            "13/13 [==============================] - 0s 3ms/step - loss: 3.5665 - mae: 3.5665\n",
            "Epoch 92/100\n",
            "13/13 [==============================] - 0s 3ms/step - loss: 3.5608 - mae: 3.5608\n",
            "Epoch 93/100\n",
            "13/13 [==============================] - 0s 3ms/step - loss: 3.5360 - mae: 3.5360\n",
            "Epoch 94/100\n",
            "13/13 [==============================] - 0s 3ms/step - loss: 3.5445 - mae: 3.5445\n",
            "Epoch 95/100\n",
            "13/13 [==============================] - 0s 3ms/step - loss: 3.5334 - mae: 3.5334\n",
            "Epoch 96/100\n",
            "13/13 [==============================] - 0s 3ms/step - loss: 3.5058 - mae: 3.5058\n",
            "Epoch 97/100\n",
            "13/13 [==============================] - 0s 3ms/step - loss: 3.5016 - mae: 3.5016\n",
            "Epoch 98/100\n",
            "13/13 [==============================] - 0s 3ms/step - loss: 3.5166 - mae: 3.5166\n",
            "Epoch 99/100\n",
            "13/13 [==============================] - 0s 3ms/step - loss: 3.5055 - mae: 3.5055\n",
            "Epoch 100/100\n",
            "13/13 [==============================] - 0s 3ms/step - loss: 3.4903 - mae: 3.4903\n"
          ]
        },
        {
          "output_type": "execute_result",
          "data": {
            "text/plain": [
              "<keras.src.callbacks.History at 0x7b7a1ca3e3e0>"
            ]
          },
          "metadata": {},
          "execution_count": 9
        }
      ]
    },
    {
      "cell_type": "code",
      "source": [
        "tf.keras.metrics.mean_absolute_error(y_test, tf.squeeze(model.predict(X_test))).numpy(), data['MEDV'].mean()"
      ],
      "metadata": {
        "colab": {
          "base_uri": "https://localhost:8080/"
        },
        "id": "C8DihamWMYMH",
        "outputId": "b1b0839d-162c-44c7-ae54-cb9516747f12"
      },
      "execution_count": 10,
      "outputs": [
        {
          "output_type": "stream",
          "name": "stdout",
          "text": [
            "4/4 [==============================] - 0s 3ms/step\n"
          ]
        },
        {
          "output_type": "execute_result",
          "data": {
            "text/plain": [
              "(4.5383263, 22.532806324110677)"
            ]
          },
          "metadata": {},
          "execution_count": 10
        }
      ]
    },
    {
      "cell_type": "markdown",
      "source": [
        "Not so good could be better maybe but the normal regression models would fit better for regression problemss, Neural networks are not the best for\n",
        "regression, main thing that neural networks good are classification problems"
      ],
      "metadata": {
        "id": "JwTzyQgLNLRK"
      }
    },
    {
      "cell_type": "markdown",
      "source": [
        "#Take a quick look of normal regreesion models performance on this problem"
      ],
      "metadata": {
        "id": "CcLjeSsfNele"
      }
    },
    {
      "cell_type": "code",
      "source": [
        "#We've already have dataset and the other libraries we just have to import one library\n",
        "#Which is the Regression Model\n",
        "from sklearn.linear_model import LinearRegression\n",
        "\n",
        "X_train, X_test, y_train, y_test = train_test_split(X, y, test_size = 0.2, random_state = 63)\n",
        "#Not going to apply feature scaling on this one might work better but neural networks perform better on scaled features\n",
        "regressor = LinearRegression()\n",
        "regressor.fit(X_train, y_train)\n",
        "tf.keras.metrics.mean_absolute_error(y_test,regressor.predict(X_test)).numpy(), data['MEDV'].mean()\n"
      ],
      "metadata": {
        "colab": {
          "base_uri": "https://localhost:8080/"
        },
        "id": "QRa6TD16Nyy4",
        "outputId": "3a6aa0b0-96b3-410a-a519-8fb3f5af672e"
      },
      "execution_count": 11,
      "outputs": [
        {
          "output_type": "execute_result",
          "data": {
            "text/plain": [
              "(3.6530980363279397, 22.532806324110677)"
            ]
          },
          "metadata": {},
          "execution_count": 11
        }
      ]
    },
    {
      "cell_type": "markdown",
      "source": [
        "#Slightly better than NN lets try feature scaling and do the expirements again"
      ],
      "metadata": {
        "id": "vP829fCOO5oI"
      }
    },
    {
      "cell_type": "code",
      "source": [
        "#scaler = MinMaxScaler()\n",
        "#X_train = scaler.fit_transform(X_train)\n",
        "#X_test = scaler.fit_transform(X_test)\n",
        "\n",
        "#regressor.fit(X_train, y_train)\n",
        "#tf.keras.metrics.mean_absolute_error(y_test,regressor.predict(X_test)).numpy(), data['MEDV'].mean()"
      ],
      "metadata": {
        "id": "fXm2VIsIO8Qt"
      },
      "execution_count": 12,
      "outputs": []
    },
    {
      "cell_type": "markdown",
      "source": [
        "#It gets worse when we applied feature scaling so we dont want that."
      ],
      "metadata": {
        "id": "HaxQXWRxPKYx"
      }
    }
  ]
}